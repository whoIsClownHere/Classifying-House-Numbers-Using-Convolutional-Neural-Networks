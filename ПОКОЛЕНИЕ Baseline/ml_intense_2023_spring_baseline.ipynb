{
  "nbformat": 4,
  "nbformat_minor": 0,
  "metadata": {
    "colab": {
      "provenance": []
    },
    "kernelspec": {
      "name": "python3",
      "display_name": "Python 3"
    },
    "language_info": {
      "name": "python"
    }
  },
  "cells": [
    {
      "cell_type": "markdown",
      "source": [
        "### Ноутбук содержащий бейзлайн решение для соревнования в рамках весеннего МЛ интенсива Академии Яндекса 2023"
      ],
      "metadata": {
        "id": "3ME5yV740Fd9"
      }
    },
    {
      "cell_type": "markdown",
      "source": [
        "#### Импортируем необходимые библиотеки"
      ],
      "metadata": {
        "id": "NBoZDrDy0SHC"
      }
    },
    {
      "cell_type": "code",
      "execution_count": null,
      "metadata": {
        "colab": {
          "base_uri": "https://localhost:8080/"
        },
        "id": "gRR8vLEaGTx0",
        "outputId": "ae9136b2-25fe-4981-f4a8-5035e1acf634"
      },
      "outputs": [
        {
          "output_type": "stream",
          "name": "stdout",
          "text": [
            "2.12.0\n"
          ]
        }
      ],
      "source": [
        "import pandas as pd\n",
        "import numpy as np\n",
        "import matplotlib.pyplot as plt\n",
        "%matplotlib inline\n",
        "\n",
        "import tensorflow as tf\n",
        "from tensorflow import keras\n",
        "from tensorflow.keras import layers\n",
        "print(tf.__version__)"
      ]
    },
    {
      "cell_type": "markdown",
      "source": [
        "#### Скачаем данные\n",
        "\n",
        "Json файл с ключом к kaggle API можно сгенерировать и скачать по ссылке [тык](https://www.kaggle.com/alexnikko/account): **API -> create new API token**\n",
        "\n",
        "После этого загрузите файл *kaggle.json* в колаб и выполните ячейку ниже - данные сами скачаются и распакуются"
      ],
      "metadata": {
        "id": "0hFhkuB70Vxz"
      }
    },
    {
      "cell_type": "code",
      "source": [
        "!mv kaggle.json /root/.kaggle/\n",
        "!kaggle competitions download -c ml-intensive-of-yandex-academy-2023\n",
        "!unzip ml-intensive-of-yandex-academy-2023.zip "
      ],
      "metadata": {
        "id": "sMW41z3SGeG5",
        "colab": {
          "base_uri": "https://localhost:8080/"
        },
        "outputId": "ff59b53a-efd6-4ab0-a1a3-d04ef8c5a88c"
      },
      "execution_count": null,
      "outputs": [
        {
          "output_type": "stream",
          "name": "stdout",
          "text": [
            "Warning: Your Kaggle API key is readable by other users on this system! To fix this, you can run 'chmod 600 /root/.kaggle/kaggle.json'\n",
            "Downloading ml-intensive-of-yandex-academy-2023.zip to /content\n",
            " 96% 253M/263M [00:03<00:00, 114MB/s]\n",
            "100% 263M/263M [00:03<00:00, 83.9MB/s]\n"
          ]
        }
      ]
    },
    {
      "cell_type": "markdown",
      "source": [
        "#### Считаем данные и посмотрим какую-нибудь информацию по ним"
      ],
      "metadata": {
        "id": "aGZhy4Tq08y4"
      }
    },
    {
      "cell_type": "code",
      "source": [
        "train_data = pd.read_pickle('data_train')\n",
        "test_data = pd.read_pickle('data_test')\n",
        "\n",
        "print(f'Train data keys: {train_data.keys()}')\n",
        "print(f'Test data keys: {test_data.keys()}\\n')\n",
        "print(f'Shape of train images: {train_data[\"images\"].shape}')\n",
        "print(f'Shape of test images: {test_data[\"images\"].shape}\\n')\n",
        "print(f'Unique labels: {set(train_data[\"labels\"])}\\n')\n",
        "print(f'Classes distribution: {pd.Series(train_data[\"labels\"]).value_counts(normalize=True)}')"
      ],
      "metadata": {
        "id": "DMPzZrjZHZ0L",
        "colab": {
          "base_uri": "https://localhost:8080/"
        },
        "outputId": "fe7d8892-7e22-4167-8a7a-14279ca925b3"
      },
      "execution_count": null,
      "outputs": [
        {
          "output_type": "stream",
          "name": "stdout",
          "text": [
            "Train data keys: dict_keys(['section', 'labels', 'images'])\n",
            "Test data keys: dict_keys(['section', 'images'])\n",
            "\n",
            "Shape of train images: (50000, 32, 32, 3)\n",
            "Shape of test images: (25000, 32, 32, 3)\n",
            "\n",
            "Unique labels: {0, 1, 2, 3, 4, 5, 6, 7, 8, 9}\n",
            "\n",
            "Classes distribution: 1    0.19300\n",
            "2    0.15190\n",
            "3    0.11250\n",
            "4    0.09882\n",
            "5    0.09208\n",
            "7    0.07752\n",
            "6    0.07718\n",
            "0    0.06682\n",
            "8    0.06664\n",
            "9    0.06354\n",
            "dtype: float64\n"
          ]
        }
      ]
    },
    {
      "cell_type": "markdown",
      "source": [
        "Видим, что в трейне - **50к** картинок, в тесте - **25к**. \n",
        "\n",
        "Классов всего **10** - от 0 до 9 (цифры)\n",
        "\n",
        "Есть дисбаланс классов: например, домов с номерами 1 **в 3 раза больше**, чем домов с номерами 9"
      ],
      "metadata": {
        "id": "AqEsJXV118Ot"
      }
    },
    {
      "cell_type": "code",
      "source": [
        "plt.figure(figsize=(10, 10))\n",
        "for i in range(9):\n",
        "    idx = np.random.randint(len(train_data['images']))\n",
        "    image = train_data['images'][idx]\n",
        "    label = train_data['labels'][idx]\n",
        "\n",
        "    ax = plt.subplot(3, 3, i + 1)\n",
        "    plt.imshow(image.astype(\"uint8\"))\n",
        "    plt.title(label)\n",
        "    plt.axis(\"off\")"
      ],
      "metadata": {
        "colab": {
          "base_uri": "https://localhost:8080/",
          "height": 829
        },
        "id": "8g40MBCYJnlz",
        "outputId": "e3aa03cb-6d0e-4d94-aa25-668f15d8f836"
      },
      "execution_count": null,
      "outputs": [
        {
          "output_type": "display_data",
          "data": {
            "text/plain": [
              "<Figure size 1000x1000 with 9 Axes>"
            ],
            "image/png": "[encoded data removed]"
          },
          "metadata": {}
        }
      ]
    },
    {
      "cell_type": "markdown",
      "source": [
        "#### Создадим простую модель\n",
        "\n",
        "В качестве нейронной сети возьмем просто перцептрон, то есть двуслойную нейросеть (с двумя линейными слоями)\n",
        "\n",
        "Во-первых, нам необходимо отмасштабировать картинки из целочисленного диапазона от 0 до 255 (значения пикселей) в вещественный диапазон от 0 до 1. За это будет отвечать слой **Rescaling**.\n",
        "\n",
        "Во-вторых, нужно \"распрямить\" картинку. На вход нейронной сети подается трехканальное изображение (RGB) с высотой и шириной равными 32. Таким образом необходимо из размерности 32x32x3 сделать вектор размерности 32*32*3. За это отвечает слой **Flatten**.\n",
        "\n",
        "Дальше схема простая: x -> Linear -> Relu -> Linear"
      ],
      "metadata": {
        "id": "Z7OxfswW5BJL"
      }
    },
    {
      "cell_type": "code",
      "source": [
        "model = tf.keras.Sequential([\n",
        "    tf.keras.layers.Rescaling(1.0 / 255),\n",
        "    tf.keras.layers.Flatten(input_shape=(32, 32)),\n",
        "    tf.keras.layers.Dense(128, activation='relu'),\n",
        "    tf.keras.layers.Dense(10)\n",
        "])"
      ],
      "metadata": {
        "id": "UUVW5jdyMJ7G"
      },
      "execution_count": null,
      "outputs": []
    },
    {
      "cell_type": "markdown",
      "source": [
        "#### Зададим оптимизатор, функцию потерь и метрики\n",
        "\n",
        "В качестве оптимизатора возьмем **RMSprop** с параметрами по умолчанию\n",
        "\n",
        "В качестве функции потерь нам необходимо использовать **Crossentropy** (стандартный лосс для задач классификации)\n",
        "\n",
        "В качетсве метрик, который будем считать будем использовать accuracy - целевая метрика нашего соревнования"
      ],
      "metadata": {
        "id": "Jy57gMrY6QtP"
      }
    },
    {
      "cell_type": "code",
      "source": [
        "model.compile(\n",
        "    optimizer=tf.keras.optimizers.RMSprop(),\n",
        "    loss=tf.keras.losses.SparseCategoricalCrossentropy(from_logits=True),\n",
        "    metrics=['sparse_categorical_accuracy']\n",
        ")"
      ],
      "metadata": {
        "id": "VbGIGOcpMR4E"
      },
      "execution_count": null,
      "outputs": []
    },
    {
      "cell_type": "markdown",
      "source": [
        "#### Обучение модели\n",
        "\n",
        "Параметры:\n",
        "- x - тренировочные картинки (numpy array)\n",
        "- y - тренировочные лейблы (numpy array)\n",
        "- batch_size - размер батча (пакета)\n",
        "- epochs - количество эпох обучения \n",
        "- validation_split - сколько процентов тренировочных данных использовать в качестве валидации (в данном случае 0.2 - это 20%)\n",
        "- shuffle - перешивать данные перед началом каждой эпохи или нет"
      ],
      "metadata": {
        "id": "70mbsgm76sWO"
      }
    },
    {
      "cell_type": "code",
      "source": [
        "model.fit(\n",
        "    x=train_data['images'],\n",
        "    y=train_data['labels'],\n",
        "    batch_size=32,\n",
        "    epochs=1,\n",
        "    validation_split=0.2,\n",
        "    shuffle=True\n",
        ")"
      ],
      "metadata": {
        "colab": {
          "base_uri": "https://localhost:8080/"
        },
        "id": "6jxPXK8IMUiO",
        "outputId": "3ffc45b4-8a05-469d-8973-5c9ad037373d"
      },
      "execution_count": null,
      "outputs": [
        {
          "output_type": "stream",
          "name": "stdout",
          "text": [
            "1250/1250 [==============================] - 16s 12ms/step - loss: 2.2967 - sparse_categorical_accuracy: 0.1779 - val_loss: 2.2555 - val_sparse_categorical_accuracy: 0.1895\n"
          ]
        },
        {
          "output_type": "execute_result",
          "data": {
            "text/plain": [
              "<keras.callbacks.History at 0x7fa3b9499c70>"
            ]
          },
          "metadata": {},
          "execution_count": 6
        }
      ]
    },
    {
      "cell_type": "markdown",
      "source": [
        "#### Предсказание\n",
        "\n",
        "Сделаем предсказание модели на тестовом датасете и создадим сабмит"
      ],
      "metadata": {
        "id": "oBvRpT__7N5H"
      }
    },
    {
      "cell_type": "code",
      "source": [
        "preds = model.predict(test_data['images'])\n",
        "pred_labels = preds.argmax(1)\n",
        "pd.DataFrame({\n",
        "    'Id': range(pred_labels.size),\n",
        "    'Category': pred_labels\n",
        "}).to_csv('sub.csv', index=False)"
      ],
      "metadata": {
        "colab": {
          "base_uri": "https://localhost:8080/"
        },
        "id": "UpbI6ssMMpSe",
        "outputId": "9152ba56-aaa1-4e7b-881c-cd5908588373"
      },
      "execution_count": null,
      "outputs": [
        {
          "output_type": "stream",
          "name": "stdout",
          "text": [
            "782/782 [==============================] - 3s 3ms/step\n"
          ]
        }
      ]
    },
    {
      "cell_type": "markdown",
      "source": [
        "#### Дальнейшие шаги\n",
        "\n",
        "В какую сторону нужно думать, чтобы улучшить качество:\n",
        "\n",
        "- **Модель.** Сейчас мы используем простую двуслойную нейронную сеть с линейными слоями. Однако для классификации изображений принято использовать сверточные нейронные сети. Их реализацией и стоит заняться в первую очередь.\n",
        "- **Данные.** Если посмотреть на данные (картинки), то можно понять, что они не идеальны. Нужно придумать способы, как улучшить их качество. + можно использовать аугментации.\n",
        "- **Схема тренировки.** В данном ноутбуке практически все параметры заданы по умолчанию, однако можно с ними поэксперементировать. Различные оптимизаторы, learning rate, schedulers - на всё это стоит обратить внимание."
      ],
      "metadata": {
        "id": "mx6hmBOf7uaq"
      }
    },
    {
      "cell_type": "code",
      "source": [],
      "metadata": {
        "id": "bTL1QS2b8f0O"
      },
      "execution_count": null,
      "outputs": []
    }
  ]
}