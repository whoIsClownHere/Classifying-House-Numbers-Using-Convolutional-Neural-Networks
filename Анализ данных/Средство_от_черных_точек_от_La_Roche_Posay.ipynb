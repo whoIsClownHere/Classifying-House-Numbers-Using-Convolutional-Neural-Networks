{
  "nbformat": 4,
  "nbformat_minor": 0,
  "metadata": {
    "colab": {
      "provenance": []
    },
    "kernelspec": {
      "name": "python3",
      "display_name": "Python 3"
    },
    "language_info": {
      "name": "python"
    }
  },
  "cells": [
    {
      "cell_type": "code",
      "execution_count": null,
      "metadata": {
        "id": "QIrjxcLEupVJ"
      },
      "outputs": [],
      "source": [
        "# https://medium.com/nuances-of-programming/%D0%BA%D0%B0%D0%BA-%D0%B8%D0%BC%D0%BF%D0%BE%D1%80%D1%82%D0%B8%D1%80%D0%BE%D0%B2%D0%B0%D1%82%D1%8C-%D0%BD%D0%B0%D0%B1%D0%BE%D1%80%D1%8B-%D0%B4%D0%B0%D0%BD%D0%BD%D1%8B%D1%85-kaggle-%D0%B2-google-colab-51de3fd5a9a8#:~:text=%D0%97%D0%B0%D0%BF%D1%83%D1%81%D1%82%D0%B8%D1%82%D0%B5%20%D0%B1%D0%BB%D0%BE%D0%BA%D0%BD%D0%BE%D1%82%20Google%20Colab%20%D0%B8,%D0%BD%D0%B5%D0%BE%D0%B1%D1%85%D0%BE%D0%B4%D0%B8%D0%BC%D1%8B%D1%85%20%D0%B4%D0%BB%D1%8F%20%D0%B7%D0%B0%D0%B3%D1%80%D1%83%D0%B7%D0%BA%D0%B8%20%D0%BD%D0%B0%D0%B1%D0%BE%D1%80%D0%B0%20%D0%B4%D0%B0%D0%BD%D0%BD%D1%8B%D1%85.\n",
        "# Как импортировать наборы данных Kaggle в Google Colab?\n",
        "# Сделать ШАГ 2 \n",
        "# Также есть Лайфхак 2: Загрузка учетных данных Kaggle из Google Drive , чтобы каждый раз загружать kaggle.json\n",
        "! mkdir ~/.kaggle\n",
        "\n",
        "! cp kaggle.json ~/.kaggle/\n"
      ]
    },
    {
      "cell_type": "code",
      "source": [
        "! chmod 600 ~/.kaggle/kaggle.json\n",
        "\n",
        "! kaggle competitions download ml-intensive-of-yandex-academy-2023 #Но аккаунт должен быть зарегистрирован на соревновании"
      ],
      "metadata": {
        "id": "NRrVamPmutNs"
      },
      "execution_count": null,
      "outputs": []
    },
    {
      "cell_type": "code",
      "source": [
        "# https://ru.stackoverflow.com/questions/1061024/%D0%94%D0%BE%D1%81%D1%82%D1%83%D0%BF-%D0%BA-%D0%BF%D0%B0%D0%BF%D0%BA%D0%B0%D0%BC-zip-%D0%B0%D1%80%D1%85%D0%B8%D0%B2%D0%B0-%D0%B2-google-colab\n",
        "# Доступ к папкам ZIP-архива в Google Colab\n",
        "import zipfile\n",
        "import os\n",
        "\n",
        "data_r = zipfile.ZipFile('ml-intensive-of-yandex-academy-2023.zip', 'r')\n",
        "data_r.printdir()\n",
        "data_r.extractall()"
      ],
      "metadata": {
        "id": "wNAfgOMtutjo"
      },
      "execution_count": null,
      "outputs": []
    },
    {
      "cell_type": "code",
      "source": [
        "# http://cs.mipt.ru/advanced_python/lessons/lab13.html\n",
        "# Теперь в отдельной программе выполним десериализацию. Это уже надо всем делать.\n",
        "import pickle\n",
        "\n",
        "# Data_train\n",
        "with open('data_train', 'rb') as f:\n",
        "    data_train = pickle.load(f)\n",
        "print(data_train)\n",
        "# Data_test\n",
        "with open('data_test', 'rb') as f:\n",
        "    data_test = pickle.load(f)\n",
        "print(data_test)"
      ],
      "metadata": {
        "id": "ucdEYhUPuvMg"
      },
      "execution_count": null,
      "outputs": []
    },
    {
      "cell_type": "markdown",
      "source": [
        "ОСНОВНОЙ КОД\n"
      ],
      "metadata": {
        "id": "fu7dbAGUu5v-"
      }
    },
    {
      "cell_type": "markdown",
      "source": [
        "Пример:"
      ],
      "metadata": {
        "id": "HeDA2Rj1vODI"
      }
    },
    {
      "cell_type": "markdown",
      "source": [
        "ДО"
      ],
      "metadata": {
        "id": "evgWv2mevTbc"
      }
    },
    {
      "cell_type": "code",
      "source": [
        "plt.imshow(data_train['images'][545].astype(\"uint8\"))\n"
      ],
      "metadata": {
        "id": "I-ppUvzkvRJZ"
      },
      "execution_count": null,
      "outputs": []
    },
    {
      "cell_type": "markdown",
      "source": [
        "После"
      ],
      "metadata": {
        "id": "oXZPcmf1vU7x"
      }
    },
    {
      "cell_type": "code",
      "source": [
        "import numpy as np\n",
        "from skimage import io, color, morphology\n",
        "import cv2\n",
        "\n",
        "# загружаем изображение\n",
        "image = data_train['images'][545]\n",
        "\n",
        "# получаем координаты черных пикселей\n",
        "black_pixels = np.where(np.all(image == [0, 0, 0], axis=-1))\n",
        "print(black_pixels)\n",
        "\n",
        "# заменяем черные пиксели на среднее значение пикселей в окрестности 3x3\n",
        "for i, j in zip(black_pixels[0], black_pixels[1]):\n",
        "    # получаем окрестность 3x3 пикселя\n",
        "    neighborhood = image[max(0, i-1):min(i+2, image.shape[0]), max(0, j-1):min(j+2, image.shape[1])]\n",
        "    # считаем среднее значение пикселей\n",
        "    mean_pixel = np.mean(neighborhood, axis=(0, 1))\n",
        "    # заменяем черный пиксель на среднее значение\n",
        "    image[i, j] = mean_pixel\n",
        "\n",
        "\n",
        "# получаем координаты белых пикселей\n",
        "white_pixels = np.where(np.all(image == [255, 255, 255], axis=-1))\n",
        "print(white_pixels)\n",
        "\n",
        "# заменяем черные пиксели на среднее значение пикселей в окрестности 3x3\n",
        "for i, j in zip(white_pixels[0], white_pixels[1]):\n",
        "    # получаем окрестность 3x3 пикселя\n",
        "    neighborhood = image[max(0, i-1):min(i+2, image.shape[0]), max(0, j-1):min(j+2, image.shape[1])]\n",
        "    # считаем среднее значение пикселей\n",
        "    mean_pixel = np.mean(neighborhood, axis=(0, 1))\n",
        "    # заменяем белый пиксель на среднее значение\n",
        "    image[i, j] = mean_pixel\n",
        "\n",
        "plt.imshow(image.astype(\"uint8\"))"
      ],
      "metadata": {
        "id": "wR4lSmQ9uyOK"
      },
      "execution_count": null,
      "outputs": []
    },
    {
      "cell_type": "markdown",
      "source": [
        "//////"
      ],
      "metadata": {
        "id": "3s-MwgzCwLHA"
      }
    },
    {
      "cell_type": "code",
      "source": [
        "def black_white_point(image):\n",
        "    # получаем координаты черных пикселей\n",
        "  black_pixels = np.where(np.all(image == [0, 0, 0], axis=-1))\n",
        "  print(black_pixels)\n",
        "\n",
        "  # заменяем черные пиксели на среднее значение пикселей в окрестности 3x3\n",
        "  for i, j in zip(black_pixels[0], black_pixels[1]):\n",
        "      # получаем окрестность 3x3 пикселя\n",
        "      neighborhood = image[max(0, i-1):min(i+2, image.shape[0]), max(0, j-1):min(j+2, image.shape[1])]\n",
        "      # считаем среднее значение пикселей\n",
        "      mean_pixel = np.mean(neighborhood, axis=(0, 1))\n",
        "      # заменяем черный пиксель на среднее значение\n",
        "      image[i, j] = mean_pixel\n",
        "\n",
        "\n",
        "  # получаем координаты белых пикселей\n",
        "  white_pixels = np.where(np.all(image == [255, 255, 255], axis=-1))\n",
        "  print(white_pixels)\n",
        "\n",
        "  # заменяем черные пиксели на среднее значение пикселей в окрестности 3x3\n",
        "  for i, j in zip(white_pixels[0], white_pixels[1]):\n",
        "      # получаем окрестность 3x3 пикселя\n",
        "      neighborhood = image[max(0, i-1):min(i+2, image.shape[0]), max(0, j-1):min(j+2, image.shape[1])]\n",
        "      # считаем среднее значение пикселей\n",
        "      mean_pixel = np.mean(neighborhood, axis=(0, 1))\n",
        "      # заменяем белый пиксель на среднее значение\n",
        "      image[i, j] = mean_pixel"
      ],
      "metadata": {
        "id": "_juYR1Ffv091"
      },
      "execution_count": null,
      "outputs": []
    },
    {
      "cell_type": "code",
      "source": [
        "for image in data_train:\n",
        "  black_white_point(image)\n",
        "\n",
        "for image in data_test:\n",
        "  black_white_point(image)\n"
      ],
      "metadata": {
        "id": "Um8F8bSKvaId"
      },
      "execution_count": null,
      "outputs": []
    },
    {
      "cell_type": "code",
      "source": [
        "plt.figure(figsize=(10, 10))\n",
        "for i in range(9):\n",
        "    idx = np.random.randint(len(train_data['images']))\n",
        "    image = train_data['images'][idx]\n",
        "    label = train_data['labels'][idx]\n",
        "\n",
        "    ax = plt.subplot(3, 3, i + 1)\n",
        "    plt.imshow(image.astype(\"uint8\"))\n",
        "    plt.title(label)\n",
        "    plt.axis(\"off\")"
      ],
      "metadata": {
        "id": "r3cMCYFnvx5k"
      },
      "execution_count": null,
      "outputs": []
    }
  ]
}