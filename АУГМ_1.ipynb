{
  "nbformat": 4,
  "nbformat_minor": 0,
  "metadata": {
    "colab": {
      "provenance": []
    },
    "kernelspec": {
      "name": "python3",
      "display_name": "Python 3"
    },
    "language_info": {
      "name": "python"
    }
  },
  "cells": [
    {
      "cell_type": "code",
      "execution_count": 1,
      "metadata": {
        "colab": {
          "base_uri": "https://localhost:8080/"
        },
        "id": "rT3yQpbveabJ",
        "outputId": "1d0f35a8-a38b-4fc9-ebb6-8322b2dff6ab"
      },
      "outputs": [
        {
          "output_type": "stream",
          "name": "stdout",
          "text": [
            "2.12.0\n",
            "Warning: Your Kaggle API key is readable by other users on this system! To fix this, you can run 'chmod 600 /root/.kaggle/kaggle.json'\n",
            "Downloading ml-intensive-of-yandex-academy-2023.zip to /content\n",
            " 98% 257M/263M [00:03<00:00, 68.8MB/s]\n",
            "100% 263M/263M [00:03<00:00, 74.5MB/s]\n",
            "Archive:  ml-intensive-of-yandex-academy-2023.zip\n",
            "  inflating: data_test               \n",
            "  inflating: data_train              \n",
            "  inflating: meta                    \n",
            "Train data keys: dict_keys(['section', 'labels', 'images'])\n",
            "Test data keys: dict_keys(['section', 'images'])\n",
            "\n",
            "Shape of train images: (50000, 32, 32, 3)\n",
            "Shape of test images: (25000, 32, 32, 3)\n",
            "\n",
            "Unique labels: {0, 1, 2, 3, 4, 5, 6, 7, 8, 9}\n",
            "\n",
            "Classes distribution: 1    0.19300\n",
            "2    0.15190\n",
            "3    0.11250\n",
            "4    0.09882\n",
            "5    0.09208\n",
            "7    0.07752\n",
            "6    0.07718\n",
            "0    0.06682\n",
            "8    0.06664\n",
            "9    0.06354\n",
            "dtype: float64\n"
          ]
        }
      ],
      "source": [
        "import pandas as pd\n",
        "import numpy as np\n",
        "import matplotlib.pyplot as plt\n",
        "%matplotlib inline\n",
        "\n",
        "import tensorflow as tf\n",
        "from tensorflow import keras\n",
        "from tensorflow.keras import layers\n",
        "print(tf.__version__)\n",
        "\n",
        "!mkdir /root/.kaggle/\n",
        "with open(\"/root/.kaggle/kaggle.json\", \"w\") as file:\n",
        "    file.write('{\"username\":\"burindima\",\"key\":\"3dc92a9952274c1e89f2f8a09d84f9c0\"}')\n",
        "!kaggle competitions download -c ml-intensive-of-yandex-academy-2023\n",
        "!unzip ml-intensive-of-yandex-academy-2023.zip \n",
        "\n",
        "train_data = pd.read_pickle('data_train')\n",
        "test_data = pd.read_pickle('data_test')\n",
        "\n",
        "print(f'Train data keys: {train_data.keys()}')\n",
        "print(f'Test data keys: {test_data.keys()}\\n')\n",
        "print(f'Shape of train images: {train_data[\"images\"].shape}')\n",
        "print(f'Shape of test images: {test_data[\"images\"].shape}\\n')\n",
        "print(f'Unique labels: {set(train_data[\"labels\"])}\\n')\n",
        "print(f'Classes distribution: {pd.Series(train_data[\"labels\"]).value_counts(normalize=True)}')"
      ]
    },
    {
      "cell_type": "code",
      "source": [
        "print(50000* 0.15190)\n",
        "print(50000*0.19300)"
      ],
      "metadata": {
        "colab": {
          "base_uri": "https://localhost:8080/"
        },
        "id": "MOkQYJaTfD-S",
        "outputId": "34d30507-1606-4960-fb85-7c36b02b23b2"
      },
      "execution_count": 38,
      "outputs": [
        {
          "output_type": "stream",
          "name": "stdout",
          "text": [
            "7595.0\n",
            "9650.0\n"
          ]
        }
      ]
    },
    {
      "cell_type": "markdown",
      "source": [
        "## ЧБ"
      ],
      "metadata": {
        "id": "Enuas8TmfE6L"
      }
    },
    {
      "cell_type": "code",
      "source": [
        "def black_white_point(image):\n",
        "    # получаем координаты черных пикселей\n",
        "  black_pixels = np.where(np.all(image == [0, 0, 0], axis=-1))\n",
        "  # print(black_pixels)\n",
        "\n",
        "  # заменяем черные пиксели на среднее значение пикселей в окрестности 3x3\n",
        "  for i, j in zip(black_pixels[0], black_pixels[1]):\n",
        "      # получаем окрестность 3x3 пикселя\n",
        "      neighborhood = image[max(0, i-1):min(i+2, image.shape[0]), max(0, j-1):min(j+2, image.shape[1])]\n",
        "      # отсеиваем соль и перец чтобы не мешались\n",
        "      neighborhood1 = neighborhood.reshape((-1, 3))\n",
        "      neighborhood1 = neighborhood1[np.nonzero(np.sum(neighborhood1, axis=1))]\n",
        "      neighborhood1 = neighborhood1[np.nonzero(np.sum(neighborhood1, axis=1) != 255*3)]\n",
        "      if not neighborhood1.any():  # на случай если пиксель полностью окружён шумом\n",
        "          neighborhood1 = neighborhood\n",
        "      # считаем среднее значение пикселей\n",
        "      mean_pixel = np.mean(neighborhood, axis=(0, 1))\n",
        "      # заменяем черный пиксель на среднее значение\n",
        "      image[i, j] = mean_pixel\n",
        "\n",
        "\n",
        "  # получаем координаты белых пикселей\n",
        "  white_pixels = np.where(np.all(image == [255, 255, 255], axis=-1))\n",
        "  # print(white_pixels)\n",
        "\n",
        "  # заменяем черные пиксели на среднее значение пикселей в окрестности 3x3\n",
        "  for i, j in zip(white_pixels[0], white_pixels[1]):\n",
        "      # получаем окрестность 3x3 пикселя\n",
        "      neighborhood = image[max(0, i-1):min(i+2, image.shape[0]), max(0, j-1):min(j+2, image.shape[1])]\n",
        "      # отсеиваем соль и перец чтобы не мешались\n",
        "      neighborhood1 = neighborhood.reshape((-1, 3))\n",
        "      neighborhood1 = neighborhood1[np.nonzero(np.sum(neighborhood1, axis=1))]\n",
        "      neighborhood1 = neighborhood1[np.nonzero(np.sum(neighborhood1, axis=1) != 255*3)]\n",
        "      if not neighborhood1.any():  # на случай если пиксель полностью окружён шумом\n",
        "          neighborhood1 = neighborhood\n",
        "      # считаем среднее значение пикселей\n",
        "      mean_pixel = np.mean(neighborhood, axis=(0, 1))\n",
        "      # заменяем белый пиксель на среднее значение\n",
        "      image[i, j] = mean_pixel"
      ],
      "metadata": {
        "id": "SI4XAzuqegoQ"
      },
      "execution_count": null,
      "outputs": []
    },
    {
      "cell_type": "code",
      "source": [
        "for image in train_data['images']:\n",
        "  black_white_point(image)\n",
        "\n",
        "for image in test_data['images']:\n",
        "  black_white_point(image)"
      ],
      "metadata": {
        "id": "46wveB5TenGe"
      },
      "execution_count": null,
      "outputs": []
    },
    {
      "cell_type": "markdown",
      "source": [
        "## АУГМ"
      ],
      "metadata": {
        "id": "pguT6IV8e272"
      }
    },
    {
      "cell_type": "code",
      "source": [
        "train_data"
      ],
      "metadata": {
        "id": "TPGgDZQ7fm7k"
      },
      "execution_count": null,
      "outputs": []
    },
    {
      "cell_type": "code",
      "source": [
        "from tensorflow.python.ops.numpy_ops import np_config\n",
        "np_config.enable_numpy_behavior()\n",
        "\n",
        "\n",
        "data_augmentation = tf.keras.Sequential([\n",
        "  # layers.RandomFlip(\"horizontal\"),\n",
        "  layers.RandomRotation(0.1),\n",
        "  layers.RandomContrast(0.4),\n",
        "  layers.RandomBrightness(0.2),\n",
        "  layers.RandomTranslation(height_factor=0.1, width_factor=0.1),\n",
        "])\n",
        "\n"
      ],
      "metadata": {
        "id": "68msKT4_enkx"
      },
      "execution_count": 9,
      "outputs": []
    },
    {
      "cell_type": "code",
      "source": [
        "orig_ds = tf.data.Dataset.from_tensor_slices((train_data['images'], train_data['labels']))\n",
        "print(len(orig_ds))"
      ],
      "metadata": {
        "colab": {
          "base_uri": "https://localhost:8080/"
        },
        "id": "RI8ja5DXh_WK",
        "outputId": "3d7933b6-6206-4754-e8df-ca98676af082"
      },
      "execution_count": 41,
      "outputs": [
        {
          "output_type": "stream",
          "name": "stdout",
          "text": [
            "50000\n"
          ]
        }
      ]
    },
    {
      "cell_type": "code",
      "source": [
        "augment_ds = orig_ds\n",
        "# ко всем цифрам 0, 8, 9 будут прибавлены по две аугментированной\n",
        "dict_augment_for_label = {\n",
        "    0: 2,\n",
        "    8: 2,\n",
        "    9: 2\n",
        "}\n",
        "for label, value in dict_augment_for_label.items():\n",
        "  for i in range(value):\n",
        "    certain_label = orig_ds.filter(lambda x, y: y == label)\n",
        "    aug_ds = certain_label.map(\n",
        "    lambda x, y: (data_augmentation(x, training=True), y))\n",
        "    augment_ds = augment_ds.concatenate(aug_ds)"
      ],
      "metadata": {
        "id": "enTv3y75ipcY"
      },
      "execution_count": 42,
      "outputs": []
    },
    {
      "cell_type": "code",
      "source": [
        "dict_augment_for_label = {\n",
        "    7: 2,\n",
        "    6: 2,\n",
        "}\n",
        "# к 75% цифр 7,6 будут прибавлены аугментированные\n",
        "percent_augment_label = 0.75\n",
        "for label, value in dict_augment_for_label.items():\n",
        "  for i in range(value):\n",
        "    certain_label = orig_ds.filter(lambda x, y: y == label).shuffle(1000)\n",
        "    certain_label = certain_label.take(int(len([i for i in certain_label]) * percent_augment_label))\n",
        "    aug_ds = certain_label.map(\n",
        "    lambda x, y: (data_augmentation(x, training=True), y))\n",
        "    augment_ds = augment_ds.concatenate(aug_ds)\n"
      ],
      "metadata": {
        "id": "Z3VJ6_zgjy8k"
      },
      "execution_count": 43,
      "outputs": []
    },
    {
      "cell_type": "code",
      "source": [
        "# ко всем цифрам 4, 5 будут прибавлены по одной аугментированной\n",
        "dict_augment_for_label = {\n",
        "    4: 1,\n",
        "    5: 1,\n",
        "}\n",
        "for label, value in dict_augment_for_label.items():\n",
        "  for i in range(value):\n",
        "    certain_label = orig_ds.filter(lambda x, y: y == label)\n",
        "    aug_ds = certain_label.map(\n",
        "    lambda x, y: (data_augmentation(x, training=True), y))\n",
        "    augment_ds = augment_ds.concatenate(aug_ds)"
      ],
      "metadata": {
        "id": "0OFg7GvylCr9"
      },
      "execution_count": 44,
      "outputs": []
    },
    {
      "cell_type": "code",
      "source": [
        "dict_augment_for_label = {\n",
        "    3: 1,\n",
        "}\n",
        "# к 70% цифр 3 будут прибавлены аугментированные\n",
        "percent_augment_label = 0.7\n",
        "for label, value in dict_augment_for_label.items():\n",
        "  for i in range(value):\n",
        "    certain_label = orig_ds.filter(lambda x, y: y == label).shuffle(1000)\n",
        "    certain_label = certain_label.take(int(len([i for i in certain_label]) * percent_augment_label))\n",
        "    aug_ds = certain_label.map(\n",
        "    lambda x, y: (data_augmentation(x, training=True), y))\n",
        "    augment_ds = augment_ds.concatenate(aug_ds)\n"
      ],
      "metadata": {
        "id": "MMq1DKCDlZtr"
      },
      "execution_count": 45,
      "outputs": []
    },
    {
      "cell_type": "code",
      "source": [
        "dict_augment_for_label = {\n",
        "    2: 1,\n",
        "}\n",
        "# к 27% цифр 2 будут прибавлены аугментированные\n",
        "percent_augment_label = 0.27\n",
        "for label, value in dict_augment_for_label.items():\n",
        "  for i in range(value):\n",
        "    certain_label = orig_ds.filter(lambda x, y: y == label).shuffle(1000)\n",
        "    certain_label = certain_label.take(int(len([i for i in certain_label]) * percent_augment_label))\n",
        "    aug_ds = certain_label.map(\n",
        "    lambda x, y: (data_augmentation(x, training=True), y))\n",
        "    augment_ds = augment_ds.concatenate(aug_ds)\n"
      ],
      "metadata": {
        "id": "Sjote0-ul0KS"
      },
      "execution_count": 46,
      "outputs": []
    },
    {
      "cell_type": "code",
      "source": [
        "len_orig_ds = len([i for i in augment_ds])"
      ],
      "metadata": {
        "id": "UkopfzKpiXsr"
      },
      "execution_count": 50,
      "outputs": []
    },
    {
      "cell_type": "code",
      "source": [
        "augment_ds"
      ],
      "metadata": {
        "colab": {
          "base_uri": "https://localhost:8080/"
        },
        "id": "Qe4CCZlBqGWD",
        "outputId": "92107219-a6d4-47b0-de09-dddca94b9808"
      },
      "execution_count": 54,
      "outputs": [
        {
          "output_type": "execute_result",
          "data": {
            "text/plain": [
              "<_ConcatenateDataset element_spec=(TensorSpec(shape=(32, 32, 3), dtype=tf.float32, name=None), TensorSpec(shape=(), dtype=tf.uint8, name=None))>"
            ]
          },
          "metadata": {},
          "execution_count": 54
        }
      ]
    },
    {
      "cell_type": "code",
      "source": [
        "orig_ds = augment_ds\n",
        "orig_val_ds, orig_train_ds = orig_ds.take(int(len_orig_ds* 0.05)) , orig_ds.skip(int(len_orig_ds * 0.05))\n",
        "# print(len(orig_val_ds), len(orig_train_ds))\n",
        "print(len([i for i in orig_val_ds]))"
      ],
      "metadata": {
        "colab": {
          "base_uri": "https://localhost:8080/"
        },
        "id": "pyAA0yqej72j",
        "outputId": "4b38f372-7831-4385-e10d-9dc7e36675fc"
      },
      "execution_count": 57,
      "outputs": [
        {
          "output_type": "stream",
          "name": "stdout",
          "text": [
            "4841\n"
          ]
        }
      ]
    },
    {
      "cell_type": "code",
      "source": [],
      "metadata": {
        "id": "_pvQQRTlj7zj"
      },
      "execution_count": null,
      "outputs": []
    },
    {
      "cell_type": "code",
      "source": [],
      "metadata": {
        "id": "zc0PF9nBj7v9"
      },
      "execution_count": null,
      "outputs": []
    }
  ]
}